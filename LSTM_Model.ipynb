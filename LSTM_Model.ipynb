{
  "nbformat": 4,
  "nbformat_minor": 0,
  "metadata": {
    "colab": {
      "provenance": [],
      "gpuType": "T4"
    },
    "kernelspec": {
      "name": "python3",
      "display_name": "Python 3"
    },
    "language_info": {
      "name": "python"
    },
    "accelerator": "GPU"
  },
  "cells": [
    {
      "cell_type": "code",
      "execution_count": 4,
      "metadata": {
        "id": "79su2Odd0Vfv"
      },
      "outputs": [],
      "source": [
        "import pandas as pd\n",
        "import numpy as np\n",
        "import matplotlib.pyplot as plt\n",
        "import pandas_datareader as data\n",
        "import yfinance as yf"
      ]
    },
    {
      "cell_type": "code",
      "source": [
        "start = '2010-01-01'\n",
        "end = '2024-04-29'\n",
        "itc = yf.Ticker(\"ITC.NS\")\n",
        "print(itc.info)"
      ],
      "metadata": {
        "colab": {
          "base_uri": "https://localhost:8080/"
        },
        "id": "gBJs9Oup0ZVe",
        "outputId": "e5c3890c-bcf8-4c35-e6c0-cebe06577561"
      },
      "execution_count": 5,
      "outputs": [
        {
          "output_type": "stream",
          "name": "stdout",
          "text": [
            "{'address1': 'Virginia House', 'address2': '37 Jawaharlal Nehru Road', 'city': 'Kolkata', 'zip': '700071', 'country': 'India', 'phone': '91 33 2288 9371', 'fax': '91 33 2288 0655', 'website': 'https://www.itcportal.com', 'industry': 'Tobacco', 'industryKey': 'tobacco', 'industryDisp': 'Tobacco', 'sector': 'Consumer Defensive', 'sectorKey': 'consumer-defensive', 'sectorDisp': 'Consumer Defensive', 'longBusinessSummary': 'ITC Limited engages in the fast-moving consumer goods, hotels, paperboards and paper and packaging, agri, and information technology businesses in India and internationally. It primarily offers cigarettes and cigars; staples, spices, biscuits, confectionery and gums, snacks, noodles and pasta, beverages, dairy, ready to eat meals, chocolate, coffee, and frozen foods; personal care products; notebooks, pens and pencils, geometry boxes, erasers, sharpeners, rulers, wax and plastic crayons, sketch pens, and oil pastels; safety matches; and incense sticks under various brands. The company also operates approximately 120 hotels under the ITC Hotel, Mementos, Welcomhotel, Storii, Fortune, and WelcomHeritage brands; and Kaya Kalp spas. In addition, it offers virgin, recycled, barrier, biodegradable barrier, solid, and graphic boards, as well as specialty papers; and packaging products, such as carton board, flexible, tobacco, and green packaging products; and exports feed ingredients, food grains, marine products, processed fruits, coffee products, leaf tobacco products, and spices. Further, the company offers information technology services for the banking, financial services, consumer goods, manufacturing, travel, hospitality, and healthcare industries. Additionally, it provides property infrastructure and estate maintenance; engineering, procurement, and construction management services; project management consultancy services; business consulting, real estate development, and agro-forestry and other related services; manages and operates golf courses; fabricates and assembles machinery for tube filling; cartooning and wrapping services; conveyor solutions; and produces and commercializes seed potato technology products. ITC Limited was incorporated in 1910 and is headquartered in Kolkata, India.', 'fullTimeEmployees': 23725, 'companyOfficers': [{'maxAge': 1, 'name': 'Mr. Sanjiv  Puri', 'age': 60, 'title': 'Chairman & MD', 'yearBorn': 1963, 'fiscalYear': 2023, 'totalPay': 163195000, 'exercisedValue': 0, 'unexercisedValue': 0}, {'maxAge': 1, 'name': 'Mr. Supratim  Dutta', 'age': 56, 'title': 'CFO & Whole Time Director', 'yearBorn': 1967, 'fiscalYear': 2023, 'totalPay': 20068000, 'exercisedValue': 0, 'unexercisedValue': 0}, {'maxAge': 1, 'name': 'Mr. Angamuthu Shanmuga Sundaram', 'age': 56, 'title': 'General Counsel & Head of Corporate Legal', 'yearBorn': 1967, 'fiscalYear': 2023, 'exercisedValue': 0, 'unexercisedValue': 0}, {'maxAge': 1, 'name': 'Mr. Rajendra Kumar Singhi', 'age': 58, 'title': 'Executive VP, Company Secretary & Compliance Officer', 'yearBorn': 1965, 'fiscalYear': 2023, 'exercisedValue': 0, 'unexercisedValue': 0}, {'maxAge': 1, 'name': 'Mr. Arif  Nazeeb', 'age': 61, 'title': 'Head of Corporate Communications & Executive VP', 'yearBorn': 1962, 'fiscalYear': 2023, 'exercisedValue': 0, 'unexercisedValue': 0}, {'maxAge': 1, 'name': 'Mr. Sumant  Bhargavan', 'age': 59, 'title': 'Whole time Director', 'yearBorn': 1964, 'fiscalYear': 2023, 'totalPay': 75856000, 'exercisedValue': 0, 'unexercisedValue': 0}, {'maxAge': 1, 'name': 'Mr. Anil K. Rajput', 'age': 67, 'title': 'President of ITC Corporate Affairs', 'yearBorn': 1956, 'fiscalYear': 2023, 'exercisedValue': 0, 'unexercisedValue': 0}, {'maxAge': 1, 'name': 'Mr. Hemant  Malik', 'age': 56, 'title': 'Whole Time Director & Divisional Chief Executive of Foods Business', 'yearBorn': 1967, 'fiscalYear': 2023, 'exercisedValue': 0, 'unexercisedValue': 0}, {'maxAge': 1, 'name': 'Mr. Surampudi  Sivakumar', 'age': 62, 'title': 'Group Head of Agri Business', 'yearBorn': 1961, 'fiscalYear': 2023, 'exercisedValue': 0, 'unexercisedValue': 0}, {'maxAge': 1, 'name': 'D.  Ashok', 'age': 59, 'title': 'Head of Taxation', 'yearBorn': 1964, 'fiscalYear': 2023, 'exercisedValue': 0, 'unexercisedValue': 0}], 'auditRisk': 3, 'boardRisk': 9, 'compensationRisk': 6, 'shareHolderRightsRisk': 1, 'overallRisk': 8, 'governanceEpochDate': 1711929600, 'compensationAsOfEpochDate': 1703980800, 'maxAge': 86400, 'priceHint': 2, 'previousClose': 437.55, 'open': 439.25, 'dayLow': 436.4, 'dayHigh': 443.3, 'regularMarketPreviousClose': 437.55, 'regularMarketOpen': 439.25, 'regularMarketDayLow': 436.4, 'regularMarketDayHigh': 443.3, 'dividendRate': 12.5, 'dividendYield': 0.028399998, 'exDividendDate': 1707350400, 'payoutRatio': 0.77599996, 'fiveYearAvgDividendYield': 3.94, 'beta': 0.274, 'trailingPE': 26.81292, 'forwardPE': 24.691359, 'volume': 14773975, 'regularMarketVolume': 14773975, 'averageVolume': 19737634, 'averageVolume10days': 13953287, 'averageDailyVolume10Day': 13953287, 'marketCap': 5493267890176, 'fiftyTwoWeekLow': 399.35, 'fiftyTwoWeekHigh': 499.7, 'priceToSalesTrailing12Months': 7.7815833, 'fiftyDayAverage': 420.35, 'twoHundredDayAverage': 440.625, 'trailingAnnualDividendRate': 13.0, 'trailingAnnualDividendYield': 0.02971089, 'currency': 'INR', 'enterpriseValue': 5306288439296, 'profitMargins': 0.29059, 'floatShares': 9236180645, 'sharesOutstanding': 12484700160, 'heldPercentInsiders': 0.28304002, 'heldPercentInstitutions': 0.46592999, 'impliedSharesOutstanding': 12484700160, 'bookValue': 55.442, 'priceToBook': 7.9362216, 'lastFiscalYearEnd': 1680220800, 'nextFiscalYearEnd': 1711843200, 'mostRecentQuarter': 1703980800, 'earningsQuarterlyGrowth': 0.066, 'netIncomeToCommon': 205137100800, 'trailingEps': 16.41, 'forwardEps': 17.82, 'pegRatio': 3.4, 'lastSplitFactor': '3:2', 'lastSplitDate': 1467331200, 'enterpriseToRevenue': 7.517, 'enterpriseToEbitda': 20.238, '52WeekChange': 0.03395605, 'SandP52WeekChange': 0.22363698, 'lastDividendValue': 6.25, 'lastDividendDate': 1707350400, 'exchange': 'NSI', 'quoteType': 'EQUITY', 'symbol': 'ITC.NS', 'underlyingSymbol': 'ITC.NS', 'shortName': 'ITC LTD', 'longName': 'ITC Limited', 'firstTradeDateEpochUtc': 820467900, 'timeZoneFullName': 'Asia/Kolkata', 'timeZoneShortName': 'IST', 'uuid': '2d1c10cc-4829-3114-aea5-57a0600cb464', 'messageBoardId': 'finmb_878153', 'gmtOffSetMilliseconds': 19800000, 'currentPrice': 440.0, 'targetHighPrice': 585.0, 'targetLowPrice': 430.0, 'targetMeanPrice': 500.91, 'targetMedianPrice': 500.0, 'recommendationMean': 1.6, 'recommendationKey': 'buy', 'numberOfAnalystOpinions': 35, 'totalCash': 186688995328, 'totalCashPerShare': 14.976, 'ebitda': 262199574528, 'totalDebt': 2840600064, 'totalRevenue': 705931902976, 'debtToEquity': 0.408, 'revenuePerShare': 56.743, 'earningsGrowth': 0.057, 'revenueGrowth': 0.018, 'grossMargins': 0.59927, 'ebitdaMargins': 0.37142, 'operatingMargins': 0.33543998, 'financialCurrency': 'INR', 'trailingPegRatio': None}\n"
          ]
        }
      ]
    },
    {
      "cell_type": "code",
      "source": [
        "df = (itc.history(period=\"max\"))\n",
        "df.head()"
      ],
      "metadata": {
        "colab": {
          "base_uri": "https://localhost:8080/",
          "height": 238
        },
        "id": "LTbAMz7X0bQV",
        "outputId": "a45efd09-8bec-4b8c-cfbc-2e081661c6c8"
      },
      "execution_count": 6,
      "outputs": [
        {
          "output_type": "execute_result",
          "data": {
            "text/plain": [
              "                               Open      High       Low     Close    Volume  \\\n",
              "Date                                                                          \n",
              "1996-01-01 00:00:00+05:30  3.236300  3.265456  3.226581  3.255737    985500   \n",
              "1996-01-02 00:00:00+05:30  3.187705  3.246017  3.084040  3.132633   7470000   \n",
              "1996-01-03 00:00:00+05:30  2.993334  3.063955  2.974544  3.032208  15160500   \n",
              "1996-01-04 00:00:00+05:30  3.032208  3.109309  2.999813  3.089224  12397500   \n",
              "1996-01-05 00:00:00+05:30  3.089224  3.077562  3.025729  3.033504   5008500   \n",
              "\n",
              "                           Dividends  Stock Splits  \n",
              "Date                                                \n",
              "1996-01-01 00:00:00+05:30        0.0           0.0  \n",
              "1996-01-02 00:00:00+05:30        0.0           0.0  \n",
              "1996-01-03 00:00:00+05:30        0.0           0.0  \n",
              "1996-01-04 00:00:00+05:30        0.0           0.0  \n",
              "1996-01-05 00:00:00+05:30        0.0           0.0  "
            ],
            "text/html": [
              "\n",
              "  <div id=\"df-0169cf2f-51a7-48cb-8457-6165c2f61c30\" class=\"colab-df-container\">\n",
              "    <div>\n",
              "<style scoped>\n",
              "    .dataframe tbody tr th:only-of-type {\n",
              "        vertical-align: middle;\n",
              "    }\n",
              "\n",
              "    .dataframe tbody tr th {\n",
              "        vertical-align: top;\n",
              "    }\n",
              "\n",
              "    .dataframe thead th {\n",
              "        text-align: right;\n",
              "    }\n",
              "</style>\n",
              "<table border=\"1\" class=\"dataframe\">\n",
              "  <thead>\n",
              "    <tr style=\"text-align: right;\">\n",
              "      <th></th>\n",
              "      <th>Open</th>\n",
              "      <th>High</th>\n",
              "      <th>Low</th>\n",
              "      <th>Close</th>\n",
              "      <th>Volume</th>\n",
              "      <th>Dividends</th>\n",
              "      <th>Stock Splits</th>\n",
              "    </tr>\n",
              "    <tr>\n",
              "      <th>Date</th>\n",
              "      <th></th>\n",
              "      <th></th>\n",
              "      <th></th>\n",
              "      <th></th>\n",
              "      <th></th>\n",
              "      <th></th>\n",
              "      <th></th>\n",
              "    </tr>\n",
              "  </thead>\n",
              "  <tbody>\n",
              "    <tr>\n",
              "      <th>1996-01-01 00:00:00+05:30</th>\n",
              "      <td>3.236300</td>\n",
              "      <td>3.265456</td>\n",
              "      <td>3.226581</td>\n",
              "      <td>3.255737</td>\n",
              "      <td>985500</td>\n",
              "      <td>0.0</td>\n",
              "      <td>0.0</td>\n",
              "    </tr>\n",
              "    <tr>\n",
              "      <th>1996-01-02 00:00:00+05:30</th>\n",
              "      <td>3.187705</td>\n",
              "      <td>3.246017</td>\n",
              "      <td>3.084040</td>\n",
              "      <td>3.132633</td>\n",
              "      <td>7470000</td>\n",
              "      <td>0.0</td>\n",
              "      <td>0.0</td>\n",
              "    </tr>\n",
              "    <tr>\n",
              "      <th>1996-01-03 00:00:00+05:30</th>\n",
              "      <td>2.993334</td>\n",
              "      <td>3.063955</td>\n",
              "      <td>2.974544</td>\n",
              "      <td>3.032208</td>\n",
              "      <td>15160500</td>\n",
              "      <td>0.0</td>\n",
              "      <td>0.0</td>\n",
              "    </tr>\n",
              "    <tr>\n",
              "      <th>1996-01-04 00:00:00+05:30</th>\n",
              "      <td>3.032208</td>\n",
              "      <td>3.109309</td>\n",
              "      <td>2.999813</td>\n",
              "      <td>3.089224</td>\n",
              "      <td>12397500</td>\n",
              "      <td>0.0</td>\n",
              "      <td>0.0</td>\n",
              "    </tr>\n",
              "    <tr>\n",
              "      <th>1996-01-05 00:00:00+05:30</th>\n",
              "      <td>3.089224</td>\n",
              "      <td>3.077562</td>\n",
              "      <td>3.025729</td>\n",
              "      <td>3.033504</td>\n",
              "      <td>5008500</td>\n",
              "      <td>0.0</td>\n",
              "      <td>0.0</td>\n",
              "    </tr>\n",
              "  </tbody>\n",
              "</table>\n",
              "</div>\n",
              "    <div class=\"colab-df-buttons\">\n",
              "\n",
              "  <div class=\"colab-df-container\">\n",
              "    <button class=\"colab-df-convert\" onclick=\"convertToInteractive('df-0169cf2f-51a7-48cb-8457-6165c2f61c30')\"\n",
              "            title=\"Convert this dataframe to an interactive table.\"\n",
              "            style=\"display:none;\">\n",
              "\n",
              "  <svg xmlns=\"http://www.w3.org/2000/svg\" height=\"24px\" viewBox=\"0 -960 960 960\">\n",
              "    <path d=\"M120-120v-720h720v720H120Zm60-500h600v-160H180v160Zm220 220h160v-160H400v160Zm0 220h160v-160H400v160ZM180-400h160v-160H180v160Zm440 0h160v-160H620v160ZM180-180h160v-160H180v160Zm440 0h160v-160H620v160Z\"/>\n",
              "  </svg>\n",
              "    </button>\n",
              "\n",
              "  <style>\n",
              "    .colab-df-container {\n",
              "      display:flex;\n",
              "      gap: 12px;\n",
              "    }\n",
              "\n",
              "    .colab-df-convert {\n",
              "      background-color: #E8F0FE;\n",
              "      border: none;\n",
              "      border-radius: 50%;\n",
              "      cursor: pointer;\n",
              "      display: none;\n",
              "      fill: #1967D2;\n",
              "      height: 32px;\n",
              "      padding: 0 0 0 0;\n",
              "      width: 32px;\n",
              "    }\n",
              "\n",
              "    .colab-df-convert:hover {\n",
              "      background-color: #E2EBFA;\n",
              "      box-shadow: 0px 1px 2px rgba(60, 64, 67, 0.3), 0px 1px 3px 1px rgba(60, 64, 67, 0.15);\n",
              "      fill: #174EA6;\n",
              "    }\n",
              "\n",
              "    .colab-df-buttons div {\n",
              "      margin-bottom: 4px;\n",
              "    }\n",
              "\n",
              "    [theme=dark] .colab-df-convert {\n",
              "      background-color: #3B4455;\n",
              "      fill: #D2E3FC;\n",
              "    }\n",
              "\n",
              "    [theme=dark] .colab-df-convert:hover {\n",
              "      background-color: #434B5C;\n",
              "      box-shadow: 0px 1px 3px 1px rgba(0, 0, 0, 0.15);\n",
              "      filter: drop-shadow(0px 1px 2px rgba(0, 0, 0, 0.3));\n",
              "      fill: #FFFFFF;\n",
              "    }\n",
              "  </style>\n",
              "\n",
              "    <script>\n",
              "      const buttonEl =\n",
              "        document.querySelector('#df-0169cf2f-51a7-48cb-8457-6165c2f61c30 button.colab-df-convert');\n",
              "      buttonEl.style.display =\n",
              "        google.colab.kernel.accessAllowed ? 'block' : 'none';\n",
              "\n",
              "      async function convertToInteractive(key) {\n",
              "        const element = document.querySelector('#df-0169cf2f-51a7-48cb-8457-6165c2f61c30');\n",
              "        const dataTable =\n",
              "          await google.colab.kernel.invokeFunction('convertToInteractive',\n",
              "                                                    [key], {});\n",
              "        if (!dataTable) return;\n",
              "\n",
              "        const docLinkHtml = 'Like what you see? Visit the ' +\n",
              "          '<a target=\"_blank\" href=https://colab.research.google.com/notebooks/data_table.ipynb>data table notebook</a>'\n",
              "          + ' to learn more about interactive tables.';\n",
              "        element.innerHTML = '';\n",
              "        dataTable['output_type'] = 'display_data';\n",
              "        await google.colab.output.renderOutput(dataTable, element);\n",
              "        const docLink = document.createElement('div');\n",
              "        docLink.innerHTML = docLinkHtml;\n",
              "        element.appendChild(docLink);\n",
              "      }\n",
              "    </script>\n",
              "  </div>\n",
              "\n",
              "\n",
              "<div id=\"df-bcee7ff2-a638-4c7f-ac1d-6a01353fcf3c\">\n",
              "  <button class=\"colab-df-quickchart\" onclick=\"quickchart('df-bcee7ff2-a638-4c7f-ac1d-6a01353fcf3c')\"\n",
              "            title=\"Suggest charts\"\n",
              "            style=\"display:none;\">\n",
              "\n",
              "<svg xmlns=\"http://www.w3.org/2000/svg\" height=\"24px\"viewBox=\"0 0 24 24\"\n",
              "     width=\"24px\">\n",
              "    <g>\n",
              "        <path d=\"M19 3H5c-1.1 0-2 .9-2 2v14c0 1.1.9 2 2 2h14c1.1 0 2-.9 2-2V5c0-1.1-.9-2-2-2zM9 17H7v-7h2v7zm4 0h-2V7h2v10zm4 0h-2v-4h2v4z\"/>\n",
              "    </g>\n",
              "</svg>\n",
              "  </button>\n",
              "\n",
              "<style>\n",
              "  .colab-df-quickchart {\n",
              "      --bg-color: #E8F0FE;\n",
              "      --fill-color: #1967D2;\n",
              "      --hover-bg-color: #E2EBFA;\n",
              "      --hover-fill-color: #174EA6;\n",
              "      --disabled-fill-color: #AAA;\n",
              "      --disabled-bg-color: #DDD;\n",
              "  }\n",
              "\n",
              "  [theme=dark] .colab-df-quickchart {\n",
              "      --bg-color: #3B4455;\n",
              "      --fill-color: #D2E3FC;\n",
              "      --hover-bg-color: #434B5C;\n",
              "      --hover-fill-color: #FFFFFF;\n",
              "      --disabled-bg-color: #3B4455;\n",
              "      --disabled-fill-color: #666;\n",
              "  }\n",
              "\n",
              "  .colab-df-quickchart {\n",
              "    background-color: var(--bg-color);\n",
              "    border: none;\n",
              "    border-radius: 50%;\n",
              "    cursor: pointer;\n",
              "    display: none;\n",
              "    fill: var(--fill-color);\n",
              "    height: 32px;\n",
              "    padding: 0;\n",
              "    width: 32px;\n",
              "  }\n",
              "\n",
              "  .colab-df-quickchart:hover {\n",
              "    background-color: var(--hover-bg-color);\n",
              "    box-shadow: 0 1px 2px rgba(60, 64, 67, 0.3), 0 1px 3px 1px rgba(60, 64, 67, 0.15);\n",
              "    fill: var(--button-hover-fill-color);\n",
              "  }\n",
              "\n",
              "  .colab-df-quickchart-complete:disabled,\n",
              "  .colab-df-quickchart-complete:disabled:hover {\n",
              "    background-color: var(--disabled-bg-color);\n",
              "    fill: var(--disabled-fill-color);\n",
              "    box-shadow: none;\n",
              "  }\n",
              "\n",
              "  .colab-df-spinner {\n",
              "    border: 2px solid var(--fill-color);\n",
              "    border-color: transparent;\n",
              "    border-bottom-color: var(--fill-color);\n",
              "    animation:\n",
              "      spin 1s steps(1) infinite;\n",
              "  }\n",
              "\n",
              "  @keyframes spin {\n",
              "    0% {\n",
              "      border-color: transparent;\n",
              "      border-bottom-color: var(--fill-color);\n",
              "      border-left-color: var(--fill-color);\n",
              "    }\n",
              "    20% {\n",
              "      border-color: transparent;\n",
              "      border-left-color: var(--fill-color);\n",
              "      border-top-color: var(--fill-color);\n",
              "    }\n",
              "    30% {\n",
              "      border-color: transparent;\n",
              "      border-left-color: var(--fill-color);\n",
              "      border-top-color: var(--fill-color);\n",
              "      border-right-color: var(--fill-color);\n",
              "    }\n",
              "    40% {\n",
              "      border-color: transparent;\n",
              "      border-right-color: var(--fill-color);\n",
              "      border-top-color: var(--fill-color);\n",
              "    }\n",
              "    60% {\n",
              "      border-color: transparent;\n",
              "      border-right-color: var(--fill-color);\n",
              "    }\n",
              "    80% {\n",
              "      border-color: transparent;\n",
              "      border-right-color: var(--fill-color);\n",
              "      border-bottom-color: var(--fill-color);\n",
              "    }\n",
              "    90% {\n",
              "      border-color: transparent;\n",
              "      border-bottom-color: var(--fill-color);\n",
              "    }\n",
              "  }\n",
              "</style>\n",
              "\n",
              "  <script>\n",
              "    async function quickchart(key) {\n",
              "      const quickchartButtonEl =\n",
              "        document.querySelector('#' + key + ' button');\n",
              "      quickchartButtonEl.disabled = true;  // To prevent multiple clicks.\n",
              "      quickchartButtonEl.classList.add('colab-df-spinner');\n",
              "      try {\n",
              "        const charts = await google.colab.kernel.invokeFunction(\n",
              "            'suggestCharts', [key], {});\n",
              "      } catch (error) {\n",
              "        console.error('Error during call to suggestCharts:', error);\n",
              "      }\n",
              "      quickchartButtonEl.classList.remove('colab-df-spinner');\n",
              "      quickchartButtonEl.classList.add('colab-df-quickchart-complete');\n",
              "    }\n",
              "    (() => {\n",
              "      let quickchartButtonEl =\n",
              "        document.querySelector('#df-bcee7ff2-a638-4c7f-ac1d-6a01353fcf3c button');\n",
              "      quickchartButtonEl.style.display =\n",
              "        google.colab.kernel.accessAllowed ? 'block' : 'none';\n",
              "    })();\n",
              "  </script>\n",
              "</div>\n",
              "\n",
              "    </div>\n",
              "  </div>\n"
            ],
            "application/vnd.google.colaboratory.intrinsic+json": {
              "type": "dataframe",
              "variable_name": "df",
              "summary": "{\n  \"name\": \"df\",\n  \"rows\": 7113,\n  \"fields\": [\n    {\n      \"column\": \"Date\",\n      \"properties\": {\n        \"dtype\": \"date\",\n        \"min\": \"1996-01-01 00:00:00+05:30\",\n        \"max\": \"2024-04-26 00:00:00+05:30\",\n        \"num_unique_values\": 7113,\n        \"samples\": [\n          \"2006-08-23 00:00:00+05:30\",\n          \"2009-06-04 00:00:00+05:30\",\n          \"2021-09-24 00:00:00+05:30\"\n        ],\n        \"semantic_type\": \"\",\n        \"description\": \"\"\n      }\n    },\n    {\n      \"column\": \"Open\",\n      \"properties\": {\n        \"dtype\": \"number\",\n        \"std\": 109.75172981463714,\n        \"min\": 2.438724201501979,\n        \"max\": 486.30768195193775,\n        \"num_unique_values\": 7088,\n        \"samples\": [\n          100.78124444614043,\n          434.5675919771116,\n          9.308024359279742\n        ],\n        \"semantic_type\": \"\",\n        \"description\": \"\"\n      }\n    },\n    {\n      \"column\": \"High\",\n      \"properties\": {\n        \"dtype\": \"number\",\n        \"std\": 110.66227394910925,\n        \"min\": 2.4387242794036865,\n        \"max\": 492.46721774484473,\n        \"num_unique_values\": 7094,\n        \"samples\": [\n          411.04998779296875,\n          245.03691365572658,\n          33.454210811094434\n        ],\n        \"semantic_type\": \"\",\n        \"description\": \"\"\n      }\n    },\n    {\n      \"column\": \"Low\",\n      \"properties\": {\n        \"dtype\": \"number\",\n        \"std\": 108.68786414959,\n        \"min\": 2.4166953469161143,\n        \"max\": 479.9510289485464,\n        \"num_unique_values\": 7094,\n        \"samples\": [\n          407.29998779296875,\n          238.33924853888055,\n          31.46794027956982\n        ],\n        \"semantic_type\": \"\",\n        \"description\": \"\"\n      }\n    },\n    {\n      \"column\": \"Close\",\n      \"properties\": {\n        \"dtype\": \"number\",\n        \"std\": 109.6496779864815,\n        \"min\": 2.4387242794036865,\n        \"max\": 485.0264892578125,\n        \"num_unique_values\": 6498,\n        \"samples\": [\n          151.71163940429688,\n          9.014641761779785,\n          191.31768798828125\n        ],\n        \"semantic_type\": \"\",\n        \"description\": \"\"\n      }\n    },\n    {\n      \"column\": \"Volume\",\n      \"properties\": {\n        \"dtype\": \"number\",\n        \"std\": 97801999,\n        \"min\": 0,\n        \"max\": 1294168500,\n        \"num_unique_values\": 6991,\n        \"samples\": [\n          11380186,\n          6712321,\n          16811223\n        ],\n        \"semantic_type\": \"\",\n        \"description\": \"\"\n      }\n    },\n    {\n      \"column\": \"Dividends\",\n      \"properties\": {\n        \"dtype\": \"number\",\n        \"std\": 0.2537802438884087,\n        \"min\": 0.0,\n        \"max\": 10.15,\n        \"num_unique_values\": 31,\n        \"samples\": [\n          5.25,\n          1.833333,\n          5.15\n        ],\n        \"semantic_type\": \"\",\n        \"description\": \"\"\n      }\n    },\n    {\n      \"column\": \"Stock Splits\",\n      \"properties\": {\n        \"dtype\": \"number\",\n        \"std\": 0.12221266771540237,\n        \"min\": 0.0,\n        \"max\": 10.0,\n        \"num_unique_values\": 4,\n        \"samples\": [\n          10.0,\n          1.5,\n          0.0\n        ],\n        \"semantic_type\": \"\",\n        \"description\": \"\"\n      }\n    }\n  ]\n}"
            }
          },
          "metadata": {},
          "execution_count": 6
        }
      ]
    },
    {
      "cell_type": "code",
      "source": [
        "df = df.reset_index()['Close']"
      ],
      "metadata": {
        "id": "PEKkfHJn0h9F"
      },
      "execution_count": 7,
      "outputs": []
    },
    {
      "cell_type": "code",
      "source": [
        "import matplotlib.pyplot as plt\n",
        "plt.plot(df)"
      ],
      "metadata": {
        "colab": {
          "base_uri": "https://localhost:8080/",
          "height": 447
        },
        "id": "D67KxoKA0pKp",
        "outputId": "a1327ea3-7c49-4431-a0e3-8258016ffeab"
      },
      "execution_count": 8,
      "outputs": [
        {
          "output_type": "execute_result",
          "data": {
            "text/plain": [
              "[<matplotlib.lines.Line2D at 0x7f63f4570f70>]"
            ]
          },
          "metadata": {},
          "execution_count": 8
        },
        {
          "output_type": "display_data",
          "data": {
            "text/plain": [
              "<Figure size 640x480 with 1 Axes>"
            ],
            "image/png": "[encoded data removed]"
          },
          "metadata": {}
        }
      ]
    },
    {
      "cell_type": "code",
      "source": [
        "from sklearn.preprocessing import MinMaxScaler\n",
        "scaler=MinMaxScaler(feature_range=(0,1))\n",
        "df=scaler.fit_transform(np.array(df).reshape(-1,1))"
      ],
      "metadata": {
        "id": "vqlGzA2z0yuQ"
      },
      "execution_count": 15,
      "outputs": []
    },
    {
      "cell_type": "code",
      "source": [
        "training_size=int(len(df)*0.65)\n",
        "test_size=len(df)-training_size\n",
        "train_data,test_data=df[0:training_size,:],df[training_size:len(df),:1]"
      ],
      "metadata": {
        "id": "uJ7O5SAG06lp"
      },
      "execution_count": 16,
      "outputs": []
    },
    {
      "cell_type": "code",
      "source": [
        "def create_dataset(dataset, time_step=1):\n",
        "\tdataX, dataY = [], []\n",
        "\tfor i in range(len(dataset)-time_step-1):\n",
        "\t\ta = dataset[i:(i+time_step), 0]   ###i=0, 0,1,2,3-----99   100\n",
        "\t\tdataX.append(a)\n",
        "\t\tdataY.append(dataset[i + time_step, 0])\n",
        "\treturn np.array(dataX), np.array(dataY)"
      ],
      "metadata": {
        "id": "3vUM4oep1As_"
      },
      "execution_count": 19,
      "outputs": []
    },
    {
      "cell_type": "code",
      "source": [
        "time_step = 150\n",
        "X_train, y_train = create_dataset(train_data, time_step)\n",
        "X_test, ytest = create_dataset(test_data, time_step)"
      ],
      "metadata": {
        "id": "WTlOL1Ad1Mno"
      },
      "execution_count": 27,
      "outputs": []
    },
    {
      "cell_type": "code",
      "source": [
        "print(X_train.shape)"
      ],
      "metadata": {
        "colab": {
          "base_uri": "https://localhost:8080/"
        },
        "id": "HJ6yabNu1QfR",
        "outputId": "75024030-7254-4020-a6c7-9fb4ce69ac4b"
      },
      "execution_count": 28,
      "outputs": [
        {
          "output_type": "stream",
          "name": "stdout",
          "text": [
            "(4472, 150)\n"
          ]
        }
      ]
    },
    {
      "cell_type": "code",
      "source": [
        "print(y_train.shape)"
      ],
      "metadata": {
        "colab": {
          "base_uri": "https://localhost:8080/"
        },
        "id": "1JEEG6sb1ung",
        "outputId": "da8198d3-048d-4579-a67c-efc875bd22c6"
      },
      "execution_count": 29,
      "outputs": [
        {
          "output_type": "stream",
          "name": "stdout",
          "text": [
            "(4472,)\n"
          ]
        }
      ]
    },
    {
      "cell_type": "code",
      "source": [
        "print(X_test.shape), print(ytest.shape)"
      ],
      "metadata": {
        "colab": {
          "base_uri": "https://localhost:8080/"
        },
        "id": "cc1bXb6L1zzS",
        "outputId": "28d132a0-4729-4054-a76c-ef878359abe0"
      },
      "execution_count": 30,
      "outputs": [
        {
          "output_type": "stream",
          "name": "stdout",
          "text": [
            "(2339, 150)\n",
            "(2339,)\n"
          ]
        },
        {
          "output_type": "execute_result",
          "data": {
            "text/plain": [
              "(None, None)"
            ]
          },
          "metadata": {},
          "execution_count": 30
        }
      ]
    },
    {
      "cell_type": "code",
      "source": [
        "X_train =X_train.reshape(X_train.shape[0],X_train.shape[1] , 1)\n",
        "X_test = X_test.reshape(X_test.shape[0],X_test.shape[1] , 1)"
      ],
      "metadata": {
        "id": "S9WItSa213oG"
      },
      "execution_count": 31,
      "outputs": []
    },
    {
      "cell_type": "code",
      "source": [
        "from tensorflow.keras.models import Sequential\n",
        "from tensorflow.keras.layers import Dense\n",
        "from tensorflow.keras.layers import LSTM"
      ],
      "metadata": {
        "id": "oebq_-2-2AiK"
      },
      "execution_count": 32,
      "outputs": []
    },
    {
      "cell_type": "code",
      "source": [
        "model=Sequential()\n",
        "model.add(LSTM(50,return_sequences=True,input_shape=(150,1)))\n",
        "model.add(LSTM(50,return_sequences=True))\n",
        "model.add(LSTM(50))\n",
        "model.add(Dense(1))\n",
        "model.compile(loss='mean_squared_error',optimizer='adam')"
      ],
      "metadata": {
        "id": "Yqg9F6W32DSN"
      },
      "execution_count": 33,
      "outputs": []
    },
    {
      "cell_type": "code",
      "source": [
        "model.summary()"
      ],
      "metadata": {
        "colab": {
          "base_uri": "https://localhost:8080/"
        },
        "id": "mdB6BPuI2XUN",
        "outputId": "a065b241-3096-49fc-de3a-c3dbe54b0b73"
      },
      "execution_count": 34,
      "outputs": [
        {
          "output_type": "stream",
          "name": "stdout",
          "text": [
            "Model: \"sequential\"\n",
            "_________________________________________________________________\n",
            " Layer (type)                Output Shape              Param #   \n",
            "=================================================================\n",
            " lstm (LSTM)                 (None, 150, 50)           10400     \n",
            "                                                                 \n",
            " lstm_1 (LSTM)               (None, 150, 50)           20200     \n",
            "                                                                 \n",
            " lstm_2 (LSTM)               (None, 50)                20200     \n",
            "                                                                 \n",
            " dense (Dense)               (None, 1)                 51        \n",
            "                                                                 \n",
            "=================================================================\n",
            "Total params: 50851 (198.64 KB)\n",
            "Trainable params: 50851 (198.64 KB)\n",
            "Non-trainable params: 0 (0.00 Byte)\n",
            "_________________________________________________________________\n"
          ]
        }
      ]
    },
    {
      "cell_type": "code",
      "source": [
        "model.fit(X_train,y_train,validation_data=(X_test,ytest),epochs=100,batch_size=64,verbose=1)"
      ],
      "metadata": {
        "colab": {
          "base_uri": "https://localhost:8080/"
        },
        "id": "ih-OvD3h2a2f",
        "outputId": "ed73e455-d42d-4008-aa38-3d0162e248ff"
      },
      "execution_count": 35,
      "outputs": [
        {
          "output_type": "stream",
          "name": "stdout",
          "text": [
            "Epoch 1/100\n",
            "70/70 [==============================] - 9s 36ms/step - loss: 0.0011 - val_loss: 0.0010\n",
            "Epoch 2/100\n",
            "70/70 [==============================] - 2s 29ms/step - loss: 3.1954e-05 - val_loss: 0.0023\n",
            "Epoch 3/100\n",
            "70/70 [==============================] - 1s 21ms/step - loss: 3.2157e-05 - val_loss: 0.0022\n",
            "Epoch 4/100\n",
            "70/70 [==============================] - 1s 20ms/step - loss: 3.4283e-05 - val_loss: 0.0021\n",
            "Epoch 5/100\n",
            "70/70 [==============================] - 1s 20ms/step - loss: 3.2459e-05 - val_loss: 0.0024\n",
            "Epoch 6/100\n",
            "70/70 [==============================] - 1s 20ms/step - loss: 3.2018e-05 - val_loss: 0.0022\n",
            "Epoch 7/100\n",
            "70/70 [==============================] - 1s 20ms/step - loss: 3.3327e-05 - val_loss: 0.0025\n",
            "Epoch 8/100\n",
            "70/70 [==============================] - 1s 20ms/step - loss: 3.1707e-05 - val_loss: 0.0021\n",
            "Epoch 9/100\n",
            "70/70 [==============================] - 1s 20ms/step - loss: 3.3312e-05 - val_loss: 0.0015\n",
            "Epoch 10/100\n",
            "70/70 [==============================] - 2s 27ms/step - loss: 3.1336e-05 - val_loss: 0.0014\n",
            "Epoch 11/100\n",
            "70/70 [==============================] - 2s 24ms/step - loss: 3.1252e-05 - val_loss: 0.0016\n",
            "Epoch 12/100\n",
            "70/70 [==============================] - 1s 20ms/step - loss: 2.9548e-05 - val_loss: 0.0018\n",
            "Epoch 13/100\n",
            "70/70 [==============================] - 1s 20ms/step - loss: 2.8508e-05 - val_loss: 0.0012\n",
            "Epoch 14/100\n",
            "70/70 [==============================] - 1s 20ms/step - loss: 2.5221e-05 - val_loss: 0.0016\n",
            "Epoch 15/100\n",
            "70/70 [==============================] - 1s 20ms/step - loss: 2.5587e-05 - val_loss: 0.0010\n",
            "Epoch 16/100\n",
            "70/70 [==============================] - 1s 20ms/step - loss: 2.4078e-05 - val_loss: 0.0013\n",
            "Epoch 17/100\n",
            "70/70 [==============================] - 1s 20ms/step - loss: 2.3987e-05 - val_loss: 0.0026\n",
            "Epoch 18/100\n",
            "70/70 [==============================] - 2s 27ms/step - loss: 2.3956e-05 - val_loss: 0.0014\n",
            "Epoch 19/100\n",
            "70/70 [==============================] - 2s 24ms/step - loss: 2.2198e-05 - val_loss: 0.0010\n",
            "Epoch 20/100\n",
            "70/70 [==============================] - 1s 21ms/step - loss: 2.8198e-05 - val_loss: 0.0019\n",
            "Epoch 21/100\n",
            "70/70 [==============================] - 1s 20ms/step - loss: 1.9113e-05 - val_loss: 0.0015\n",
            "Epoch 22/100\n",
            "70/70 [==============================] - 1s 20ms/step - loss: 2.0118e-05 - val_loss: 0.0023\n",
            "Epoch 23/100\n",
            "70/70 [==============================] - 1s 20ms/step - loss: 1.8196e-05 - val_loss: 0.0021\n",
            "Epoch 24/100\n",
            "70/70 [==============================] - 1s 20ms/step - loss: 1.6642e-05 - val_loss: 0.0017\n",
            "Epoch 25/100\n",
            "70/70 [==============================] - 1s 20ms/step - loss: 1.9890e-05 - val_loss: 0.0020\n",
            "Epoch 26/100\n",
            "70/70 [==============================] - 2s 25ms/step - loss: 2.0486e-05 - val_loss: 0.0021\n",
            "Epoch 27/100\n",
            "70/70 [==============================] - 2s 27ms/step - loss: 1.6764e-05 - val_loss: 0.0012\n",
            "Epoch 28/100\n",
            "70/70 [==============================] - 2s 35ms/step - loss: 1.5325e-05 - val_loss: 0.0023\n",
            "Epoch 29/100\n",
            "70/70 [==============================] - 1s 20ms/step - loss: 1.6064e-05 - val_loss: 0.0022\n",
            "Epoch 30/100\n",
            "70/70 [==============================] - 2s 30ms/step - loss: 1.5574e-05 - val_loss: 0.0015\n",
            "Epoch 31/100\n",
            "70/70 [==============================] - 1s 20ms/step - loss: 1.6440e-05 - val_loss: 0.0011\n",
            "Epoch 32/100\n",
            "70/70 [==============================] - 1s 20ms/step - loss: 1.6810e-05 - val_loss: 0.0025\n",
            "Epoch 33/100\n",
            "70/70 [==============================] - 2s 25ms/step - loss: 1.4658e-05 - val_loss: 0.0016\n",
            "Epoch 34/100\n",
            "70/70 [==============================] - 2s 25ms/step - loss: 1.5675e-05 - val_loss: 0.0017\n",
            "Epoch 35/100\n",
            "70/70 [==============================] - 2s 22ms/step - loss: 1.3732e-05 - val_loss: 0.0016\n",
            "Epoch 36/100\n",
            "70/70 [==============================] - 2s 22ms/step - loss: 1.4649e-05 - val_loss: 0.0012\n",
            "Epoch 37/100\n",
            "70/70 [==============================] - 1s 20ms/step - loss: 1.7529e-05 - val_loss: 0.0019\n",
            "Epoch 38/100\n",
            "70/70 [==============================] - 1s 20ms/step - loss: 1.5217e-05 - val_loss: 0.0016\n",
            "Epoch 39/100\n",
            "70/70 [==============================] - 1s 20ms/step - loss: 1.2643e-05 - val_loss: 0.0018\n",
            "Epoch 40/100\n",
            "70/70 [==============================] - 2s 24ms/step - loss: 1.4623e-05 - val_loss: 0.0023\n",
            "Epoch 41/100\n",
            "70/70 [==============================] - 2s 29ms/step - loss: 1.6100e-05 - val_loss: 0.0020\n",
            "Epoch 42/100\n",
            "70/70 [==============================] - 2s 23ms/step - loss: 1.5639e-05 - val_loss: 0.0018\n",
            "Epoch 43/100\n",
            "70/70 [==============================] - 1s 21ms/step - loss: 1.4203e-05 - val_loss: 0.0024\n",
            "Epoch 44/100\n",
            "70/70 [==============================] - 1s 20ms/step - loss: 1.5523e-05 - val_loss: 0.0013\n",
            "Epoch 45/100\n",
            "70/70 [==============================] - 2s 27ms/step - loss: 1.2605e-05 - val_loss: 0.0021\n",
            "Epoch 46/100\n",
            "70/70 [==============================] - 2s 33ms/step - loss: 1.3330e-05 - val_loss: 0.0015\n",
            "Epoch 47/100\n",
            "70/70 [==============================] - 1s 20ms/step - loss: 1.6680e-05 - val_loss: 0.0031\n",
            "Epoch 48/100\n",
            "70/70 [==============================] - 2s 26ms/step - loss: 1.3677e-05 - val_loss: 0.0016\n",
            "Epoch 49/100\n",
            "70/70 [==============================] - 2s 24ms/step - loss: 1.3158e-05 - val_loss: 0.0014\n",
            "Epoch 50/100\n",
            "70/70 [==============================] - 1s 20ms/step - loss: 1.3610e-05 - val_loss: 0.0019\n",
            "Epoch 51/100\n",
            "70/70 [==============================] - 1s 21ms/step - loss: 1.3136e-05 - val_loss: 0.0014\n",
            "Epoch 52/100\n",
            "70/70 [==============================] - 2s 26ms/step - loss: 1.2165e-05 - val_loss: 0.0012\n",
            "Epoch 53/100\n",
            "70/70 [==============================] - 2s 27ms/step - loss: 1.2299e-05 - val_loss: 9.0807e-04\n",
            "Epoch 54/100\n",
            "70/70 [==============================] - 1s 21ms/step - loss: 1.2458e-05 - val_loss: 0.0012\n",
            "Epoch 55/100\n",
            "70/70 [==============================] - 1s 21ms/step - loss: 1.1477e-05 - val_loss: 0.0025\n",
            "Epoch 56/100\n",
            "70/70 [==============================] - 2s 28ms/step - loss: 1.1711e-05 - val_loss: 0.0015\n",
            "Epoch 57/100\n",
            "70/70 [==============================] - 2s 22ms/step - loss: 1.0374e-05 - val_loss: 9.5929e-04\n",
            "Epoch 58/100\n",
            "70/70 [==============================] - 2s 26ms/step - loss: 1.1462e-05 - val_loss: 0.0011\n",
            "Epoch 59/100\n",
            "70/70 [==============================] - 1s 21ms/step - loss: 1.3209e-05 - val_loss: 8.6730e-04\n",
            "Epoch 60/100\n",
            "70/70 [==============================] - 1s 20ms/step - loss: 1.2861e-05 - val_loss: 9.9478e-04\n",
            "Epoch 61/100\n",
            "70/70 [==============================] - 1s 21ms/step - loss: 9.2719e-06 - val_loss: 0.0011\n",
            "Epoch 62/100\n",
            "70/70 [==============================] - 1s 20ms/step - loss: 9.3224e-06 - val_loss: 0.0014\n",
            "Epoch 63/100\n",
            "70/70 [==============================] - 2s 24ms/step - loss: 9.5549e-06 - val_loss: 0.0013\n",
            "Epoch 64/100\n",
            "70/70 [==============================] - 2s 35ms/step - loss: 8.9346e-06 - val_loss: 0.0012\n",
            "Epoch 65/100\n",
            "70/70 [==============================] - 2s 26ms/step - loss: 1.0058e-05 - val_loss: 0.0016\n",
            "Epoch 66/100\n",
            "70/70 [==============================] - 3s 41ms/step - loss: 1.0322e-05 - val_loss: 0.0016\n",
            "Epoch 67/100\n",
            "70/70 [==============================] - 2s 35ms/step - loss: 1.0930e-05 - val_loss: 0.0010\n",
            "Epoch 68/100\n",
            "70/70 [==============================] - 2s 27ms/step - loss: 1.0015e-05 - val_loss: 0.0012\n",
            "Epoch 69/100\n",
            "70/70 [==============================] - 2s 25ms/step - loss: 8.5930e-06 - val_loss: 0.0010\n",
            "Epoch 70/100\n",
            "70/70 [==============================] - 2s 29ms/step - loss: 9.2956e-06 - val_loss: 0.0011\n",
            "Epoch 71/100\n",
            "70/70 [==============================] - 2s 28ms/step - loss: 9.1338e-06 - val_loss: 6.2786e-04\n",
            "Epoch 72/100\n",
            "70/70 [==============================] - 2s 35ms/step - loss: 1.9385e-05 - val_loss: 9.6988e-04\n",
            "Epoch 73/100\n",
            "70/70 [==============================] - 2s 23ms/step - loss: 9.9559e-06 - val_loss: 8.5631e-04\n",
            "Epoch 74/100\n",
            "70/70 [==============================] - 2s 28ms/step - loss: 8.9674e-06 - val_loss: 8.8736e-04\n",
            "Epoch 75/100\n",
            "70/70 [==============================] - 3s 37ms/step - loss: 8.3625e-06 - val_loss: 8.7930e-04\n",
            "Epoch 76/100\n",
            "70/70 [==============================] - 3s 38ms/step - loss: 9.4010e-06 - val_loss: 0.0011\n",
            "Epoch 77/100\n",
            "70/70 [==============================] - 2s 26ms/step - loss: 7.5837e-06 - val_loss: 8.6275e-04\n",
            "Epoch 78/100\n",
            "70/70 [==============================] - 2s 32ms/step - loss: 7.9757e-06 - val_loss: 6.1922e-04\n",
            "Epoch 79/100\n",
            "70/70 [==============================] - 2s 33ms/step - loss: 9.1655e-06 - val_loss: 8.4420e-04\n",
            "Epoch 80/100\n",
            "70/70 [==============================] - 3s 38ms/step - loss: 8.9070e-06 - val_loss: 6.3501e-04\n",
            "Epoch 81/100\n",
            "70/70 [==============================] - 2s 32ms/step - loss: 7.8529e-06 - val_loss: 7.5840e-04\n",
            "Epoch 82/100\n",
            "70/70 [==============================] - 1s 20ms/step - loss: 8.5027e-06 - val_loss: 7.5459e-04\n",
            "Epoch 83/100\n",
            "70/70 [==============================] - 1s 20ms/step - loss: 8.6168e-06 - val_loss: 5.6846e-04\n",
            "Epoch 84/100\n",
            "70/70 [==============================] - 1s 21ms/step - loss: 6.8369e-06 - val_loss: 6.7545e-04\n",
            "Epoch 85/100\n",
            "70/70 [==============================] - 1s 20ms/step - loss: 8.2147e-06 - val_loss: 6.4617e-04\n",
            "Epoch 86/100\n",
            "70/70 [==============================] - 1s 20ms/step - loss: 6.9086e-06 - val_loss: 7.7364e-04\n",
            "Epoch 87/100\n",
            "70/70 [==============================] - 2s 24ms/step - loss: 8.1223e-06 - val_loss: 5.4137e-04\n",
            "Epoch 88/100\n",
            "70/70 [==============================] - 2s 23ms/step - loss: 6.1138e-06 - val_loss: 4.8085e-04\n",
            "Epoch 89/100\n",
            "70/70 [==============================] - 2s 25ms/step - loss: 1.0689e-05 - val_loss: 5.3806e-04\n",
            "Epoch 90/100\n",
            "70/70 [==============================] - 1s 21ms/step - loss: 7.5787e-06 - val_loss: 0.0010\n",
            "Epoch 91/100\n",
            "70/70 [==============================] - 1s 20ms/step - loss: 9.0496e-06 - val_loss: 8.6826e-04\n",
            "Epoch 92/100\n",
            "70/70 [==============================] - 1s 20ms/step - loss: 6.5216e-06 - val_loss: 3.8760e-04\n",
            "Epoch 93/100\n",
            "70/70 [==============================] - 1s 21ms/step - loss: 6.4222e-06 - val_loss: 4.4716e-04\n",
            "Epoch 94/100\n",
            "70/70 [==============================] - 1s 20ms/step - loss: 6.3302e-06 - val_loss: 8.3839e-04\n",
            "Epoch 95/100\n",
            "70/70 [==============================] - 1s 20ms/step - loss: 9.5920e-06 - val_loss: 4.5348e-04\n",
            "Epoch 96/100\n",
            "70/70 [==============================] - 2s 23ms/step - loss: 5.7467e-06 - val_loss: 5.3485e-04\n",
            "Epoch 97/100\n",
            "70/70 [==============================] - 2s 27ms/step - loss: 5.7669e-06 - val_loss: 7.5007e-04\n",
            "Epoch 98/100\n",
            "70/70 [==============================] - 1s 20ms/step - loss: 5.2157e-06 - val_loss: 5.0762e-04\n",
            "Epoch 99/100\n",
            "70/70 [==============================] - 1s 20ms/step - loss: 5.7559e-06 - val_loss: 4.6518e-04\n",
            "Epoch 100/100\n",
            "70/70 [==============================] - 1s 20ms/step - loss: 6.0472e-06 - val_loss: 4.3351e-04\n"
          ]
        },
        {
          "output_type": "execute_result",
          "data": {
            "text/plain": [
              "<keras.src.callbacks.History at 0x7f6380361150>"
            ]
          },
          "metadata": {},
          "execution_count": 35
        }
      ]
    },
    {
      "cell_type": "code",
      "source": [
        "import tensorflow as tf"
      ],
      "metadata": {
        "id": "QSgML54b2hAc"
      },
      "execution_count": 36,
      "outputs": []
    },
    {
      "cell_type": "code",
      "source": [
        "train_predict=model.predict(X_train)\n",
        "test_predict=model.predict(X_test)"
      ],
      "metadata": {
        "colab": {
          "base_uri": "https://localhost:8080/"
        },
        "id": "HDBjHpMz2uCM",
        "outputId": "80e21f14-ac53-426e-d80d-3c02dbb4c9db"
      },
      "execution_count": 37,
      "outputs": [
        {
          "output_type": "stream",
          "name": "stdout",
          "text": [
            "140/140 [==============================] - 2s 8ms/step\n",
            "74/74 [==============================] - 1s 7ms/step\n"
          ]
        }
      ]
    },
    {
      "cell_type": "code",
      "source": [
        "train_predict=scaler.inverse_transform(train_predict)\n",
        "test_predict=scaler.inverse_transform(test_predict)"
      ],
      "metadata": {
        "id": "PZosQihe2yE8"
      },
      "execution_count": 38,
      "outputs": []
    },
    {
      "cell_type": "code",
      "source": [
        "import math\n",
        "from sklearn.metrics import mean_squared_error\n",
        "math.sqrt(mean_squared_error(y_train,train_predict))"
      ],
      "metadata": {
        "colab": {
          "base_uri": "https://localhost:8080/"
        },
        "id": "RyCRqs0m20Qf",
        "outputId": "e81af6f1-e5e2-4a23-abfe-48b31ff6651a"
      },
      "execution_count": 39,
      "outputs": [
        {
          "output_type": "execute_result",
          "data": {
            "text/plain": [
              "62.39838063587155"
            ]
          },
          "metadata": {},
          "execution_count": 39
        }
      ]
    },
    {
      "cell_type": "code",
      "source": [
        "math.sqrt(mean_squared_error(ytest,test_predict))"
      ],
      "metadata": {
        "colab": {
          "base_uri": "https://localhost:8080/"
        },
        "id": "WNLo1dUO23GF",
        "outputId": "42f93eb6-1e81-4d22-e919-f2c769feebf9"
      },
      "execution_count": 40,
      "outputs": [
        {
          "output_type": "execute_result",
          "data": {
            "text/plain": [
              "243.3491195720441"
            ]
          },
          "metadata": {},
          "execution_count": 40
        }
      ]
    },
    {
      "cell_type": "code",
      "source": [
        "len(df)"
      ],
      "metadata": {
        "colab": {
          "base_uri": "https://localhost:8080/"
        },
        "id": "zxKmssfINOxN",
        "outputId": "d7f9b6ff-c904-438e-c858-7af5a5e0e184"
      },
      "execution_count": 46,
      "outputs": [
        {
          "output_type": "execute_result",
          "data": {
            "text/plain": [
              "7113"
            ]
          },
          "metadata": {},
          "execution_count": 46
        }
      ]
    },
    {
      "cell_type": "code",
      "source": [
        "look_back=150\n",
        "trainPredictPlot = np.empty_like(df)\n",
        "trainPredictPlot[:, :] = np.nan\n",
        "trainPredictPlot[look_back:len(train_predict)+look_back, :] = train_predict\n",
        "# shift test predictions for plotting\n",
        "testPredictPlot = np.empty_like(df)\n",
        "testPredictPlot[:, :] = np.nan\n",
        "testPredictPlot[len(train_predict)+(look_back*2)+1:len(df)-1, :] = test_predict\n",
        "# plot baseline and predictions\n",
        "plt.plot(scaler.inverse_transform(df))\n",
        "plt.plot(trainPredictPlot)\n",
        "plt.plot(testPredictPlot)\n",
        "plt.show()"
      ],
      "metadata": {
        "colab": {
          "base_uri": "https://localhost:8080/",
          "height": 430
        },
        "id": "JVvRRPxM25T5",
        "outputId": "444ca4b3-9923-475f-bc2c-d90422075b81"
      },
      "execution_count": 41,
      "outputs": [
        {
          "output_type": "display_data",
          "data": {
            "text/plain": [
              "<Figure size 640x480 with 1 Axes>"
            ],
            "image/png": "[encoded data removed]"
          },
          "metadata": {}
        }
      ]
    },
    {
      "cell_type": "code",
      "source": [
        "len(test_predict)"
      ],
      "metadata": {
        "colab": {
          "base_uri": "https://localhost:8080/"
        },
        "id": "QHWXjxbPPYFe",
        "outputId": "ef0b7885-c73b-47af-f3c6-cde13d65bda7"
      },
      "execution_count": 45,
      "outputs": [
        {
          "output_type": "execute_result",
          "data": {
            "text/plain": [
              "2339"
            ]
          },
          "metadata": {},
          "execution_count": 45
        }
      ]
    },
    {
      "cell_type": "code",
      "source": [
        "model.save('LSTM_150.h5')"
      ],
      "metadata": {
        "colab": {
          "base_uri": "https://localhost:8080/"
        },
        "id": "2QZUxhTc3Ywk",
        "outputId": "ac97dfd8-f631-421c-c722-fda6851d681d"
      },
      "execution_count": 42,
      "outputs": [
        {
          "output_type": "stream",
          "name": "stderr",
          "text": [
            "/usr/local/lib/python3.10/dist-packages/keras/src/engine/training.py:3103: UserWarning: You are saving your model as an HDF5 file via `model.save()`. This file format is considered legacy. We recommend using instead the native Keras format, e.g. `model.save('my_model.keras')`.\n",
            "  saving_api.save_model(\n"
          ]
        }
      ]
    },
    {
      "cell_type": "code",
      "source": [],
      "metadata": {
        "id": "HwbOlJFu35Hy"
      },
      "execution_count": null,
      "outputs": []
    }
  ]
}